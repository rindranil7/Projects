{
 "cells": [
  {
   "cell_type": "code",
   "execution_count": 7,
   "metadata": {},
   "outputs": [
    {
     "name": "stderr",
     "output_type": "stream",
     "text": [
      "usage: ipykernel_launcher.py [-h] [-i IMAGE] [-east EAST] [-c MIN_CONFIDENCE]\n",
      "                             [-w WIDTH] [-e HEIGHT] [-p PADDING]\n",
      "ipykernel_launcher.py: error: unrecognized arguments: -f C:\\Users\\Indranil\\AppData\\Roaming\\jupyter\\runtime\\kernel-08a583e5-c1a9-4bb2-b16f-cc29274f1e23.json\n"
     ]
    },
    {
     "ename": "SystemExit",
     "evalue": "2",
     "output_type": "error",
     "traceback": [
      "An exception has occurred, use %tb to see the full traceback.\n",
      "\u001b[1;31mSystemExit\u001b[0m\u001b[1;31m:\u001b[0m 2\n"
     ]
    },
    {
     "name": "stderr",
     "output_type": "stream",
     "text": [
      "C:\\Users\\Indranil\\anaconda3\\envs\\tensorflow_cpu\\lib\\site-packages\\IPython\\core\\interactiveshell.py:3339: UserWarning: To exit: use 'exit', 'quit', or Ctrl-D.\n",
      "  warn(\"To exit: use 'exit', 'quit', or Ctrl-D.\", stacklevel=1)\n"
     ]
    }
   ],
   "source": [
    "# import the necessary packages\n",
    "from imutils.object_detection import non_max_suppression\n",
    "import numpy as np\n",
    "import pytesseract\n",
    "import argparse\n",
    "import cv2\n",
    "\n",
    "\n",
    "def decode_predictions(scores, geometry):\n",
    "\t# grab the number of rows and columns from the scores volume, then\n",
    "\t# initialize our set of bounding box rectangles and corresponding\n",
    "\t# confidence scores\n",
    "\t(numRows, numCols) = scores.shape[2:4]\n",
    "\trects = []\n",
    "\tconfidences = []\n",
    "\t# loop over the number of rows\n",
    "\tfor y in range(0, numRows):\n",
    "\t\t# extract the scores (probabilities), followed by the\n",
    "\t\t# geometrical data used to derive potential bounding box\n",
    "\t\t# coordinates that surround text\n",
    "\t\tscoresData = scores[0, 0, y]\n",
    "\t\txData0 = geometry[0, 0, y]\n",
    "\t\txData1 = geometry[0, 1, y]\n",
    "\t\txData2 = geometry[0, 2, y]\n",
    "\t\txData3 = geometry[0, 3, y]\n",
    "\t\tanglesData = geometry[0, 4, y]\n",
    "\t\t# loop over the number of columns\n",
    "\t\tfor x in range(0, numCols):\n",
    "\t\t\t# if our score does not have sufficient probability,\n",
    "\t\t\t# ignore it\n",
    "\t\t\tif scoresData[x] < args[\"min_confidence\"]:\n",
    "\t\t\t\tcontinue\n",
    "\t\t\t# compute the offset factor as our resulting feature\n",
    "\t\t\t# maps will be 4x smaller than the input image\n",
    "\t\t\t(offsetX, offsetY) = (x * 4.0, y * 4.0)\n",
    "\t\t\t# extract the rotation angle for the prediction and\n",
    "\t\t\t# then compute the sin and cosine\n",
    "\t\t\tangle = anglesData[x]\n",
    "\t\t\tcos = np.cos(angle)\n",
    "\t\t\tsin = np.sin(angle)\n",
    "\t\t\t# use the geometry volume to derive the width and height\n",
    "\t\t\t# of the bounding box\n",
    "\t\t\th = xData0[x] + xData2[x]\n",
    "\t\t\tw = xData1[x] + xData3[x]\n",
    "\t\t\t# compute both the starting and ending (x, y)-coordinates\n",
    "\t\t\t# for the text prediction bounding box\n",
    "\t\t\tendX = int(offsetX + (cos * xData1[x]) + (sin * xData2[x]))\n",
    "\t\t\tendY = int(offsetY - (sin * xData1[x]) + (cos * xData2[x]))\n",
    "\t\t\tstartX = int(endX - w)\n",
    "\t\t\tstartY = int(endY - h)\n",
    "\t\t\t# add the bounding box coordinates and probability score\n",
    "\t\t\t# to our respective lists\n",
    "\t\t\trects.append((startX, startY, endX, endY))\n",
    "\t\t\tconfidences.append(scoresData[x])\n",
    "\t# return a tuple of the bounding boxes and associated confidences\n",
    "\treturn (rects, confidences)\n",
    "# construct the argument parser and parse the arguments\n",
    "ap = argparse.ArgumentParser()\n",
    "ap.add_argument(\"-i\", \"--image\", type=str,\n",
    "\thelp=\"path to input image\")\n",
    "ap.add_argument(\"-east\", \"--east\", type=str,\n",
    "\thelp=\"path to input EAST text detector\")\n",
    "ap.add_argument(\"-c\", \"--min-confidence\", type=float, default=0.5,\n",
    "\thelp=\"minimum probability required to inspect a region\")\n",
    "ap.add_argument(\"-w\", \"--width\", type=int, default=320,\n",
    "\thelp=\"nearest multiple of 32 for resized width\")\n",
    "ap.add_argument(\"-e\", \"--height\", type=int, default=320,\n",
    "\thelp=\"nearest multiple of 32 for resized height\")\n",
    "ap.add_argument(\"-p\", \"--padding\", type=float, default=0.0,\n",
    "\thelp=\"amount of padding to add to each border of ROI\")\n",
    "args = vars(ap.parse_args())\n",
    "\n",
    "# load the input image and grab the image dimensions\n",
    "image = cv2.imread(args[\"image\"])\n",
    "orig = image.copy()\n",
    "(origH, origW) = image.shape[:2]\n",
    "# set the new width and height and then determine the ratio in change\n",
    "# for both the width and height\n",
    "(newW, newH) = (args[\"width\"], args[\"height\"])\n",
    "rW = origW / float(newW)\n",
    "rH = origH / float(newH)\n",
    "# resize the image and grab the new image dimensions\n",
    "image = cv2.resize(image, (newW, newH))\n",
    "(H, W) = image.shape[:2]\n",
    "\n",
    "\n",
    "# define the two output layer names for the EAST detector model that\n",
    "# we are interested in -- the first is the output probabilities and the\n",
    "# second can be used to derive the bounding box coordinates of text\n",
    "layerNames = [\n",
    "\t\"feature_fusion/Conv_7/Sigmoid\",\n",
    "\t\"feature_fusion/concat_3\"]\n",
    "# load the pre-trained EAST text detector\n",
    "print(\"[INFO] loading EAST text detector...\")\n",
    "net = cv2.dnn.readNet(args[\"east\"])\n",
    "\n",
    "# construct a blob from the image and then perform a forward pass of\n",
    "# the model to obtain the two output layer sets\n",
    "blob = cv2.dnn.blobFromImage(image, 1.0, (W, H),\n",
    "\t(123.68, 116.78, 103.94), swapRB=True, crop=False)\n",
    "net.setInput(blob)\n",
    "(scores, geometry) = net.forward(layerNames)\n",
    "# decode the predictions, then  apply non-maxima suppression to\n",
    "# suppress weak, overlapping bounding boxes\n",
    "(rects, confidences) = decode_predictions(scores, geometry)\n",
    "boxes = non_max_suppression(np.array(rects), probs=confidences)\n",
    "\n",
    "# initialize the list of results\n",
    "results = []\n",
    "# loop over the bounding boxes\n",
    "for (startX, startY, endX, endY) in boxes:\n",
    "\t# scale the bounding box coordinates based on the respective\n",
    "\t# ratios\n",
    "\tstartX = int(startX * rW)\n",
    "\tstartY = int(startY * rH)\n",
    "\tendX = int(endX * rW)\n",
    "\tendY = int(endY * rH)\n",
    "\t# in order to obtain a better OCR of the text we can potentially\n",
    "\t# apply a bit of padding surrounding the bounding box -- here we\n",
    "\t# are computing the deltas in both the x and y directions\n",
    "\tdX = int((endX - startX) * args[\"padding\"])\n",
    "\tdY = int((endY - startY) * args[\"padding\"])\n",
    "\t# apply padding to each side of the bounding box, respectively\n",
    "\tstartX = max(0, startX - dX)\n",
    "\tstartY = max(0, startY - dY)\n",
    "\tendX = min(origW, endX + (dX * 2))\n",
    "\tendY = min(origH, endY + (dY * 2))\n",
    "\t# extract the actual padded ROI\n",
    "\troi = orig[startY:endY, startX:endX]\n",
    "\n",
    "# in order to apply Tesseract v4 to OCR text we must supply\n",
    "\t# (1) a language, (2) an OEM flag of 4, indicating that the we\n",
    "\t# wish to use the LSTM neural net model for OCR, and finally\n",
    "\t# (3) an OEM value, in this case, 7 which implies that we are\n",
    "\t# treating the ROI as a single line of text\n",
    "\tconfig = (\"-l eng --oem 1 --psm 7\")\n",
    "\ttext = pytesseract.image_to_string(roi, config=config)\n",
    "\t# add the bounding box coordinates and OCR'd text to the list\n",
    "\t# of results\n",
    "\tresults.append(((startX, startY, endX, endY), text))\n",
    "\n",
    "\n",
    "# sort the results bounding box coordinates from top to bottom\n",
    "results = sorted(results, key=lambda r:r[0][1])\n",
    "# loop over the results\n",
    "for ((startX, startY, endX, endY), text) in results:\n",
    "\t# display the text OCR'd by Tesseract\n",
    "\tprint(\"OCR TEXT\")\n",
    "\tprint(\"========\")\n",
    "\tprint(\"{}\\n\".format(text))\n",
    "\t# strip out non-ASCII text so we can draw the text on the image\n",
    "\t# using OpenCV, then draw the text and a bounding box surrounding\n",
    "\t# the text region of the input image\n",
    "\ttext = \"\".join([c if ord(c) < 128 else \"\" for c in text]).strip()\n",
    "\toutput = orig.copy()\n",
    "\tcv2.rectangle(output, (startX, startY), (endX, endY),\n",
    "\t\t(0, 0, 255), 2)\n",
    "\tcv2.putText(output, text, (startX, startY - 20),\n",
    "\t\tcv2.FONT_HERSHEY_SIMPLEX, 1.2, (0, 0, 255), 3)\n",
    "\t# show the output image\n",
    "\tcv2.imshow(\"Text Detection\", output)\n",
    "\tcv2.waitKey(0)"
   ]
  },
  {
   "cell_type": "code",
   "execution_count": 4,
   "metadata": {},
   "outputs": [
    {
     "name": "stderr",
     "output_type": "stream",
     "text": [
      "usage: ipykernel_launcher.py [-h] [-i IMAGE] [-east EAST] [-c MIN_CONFIDENCE]\n",
      "                             [-w WIDTH] [-e HEIGHT]\n",
      "ipykernel_launcher.py: error: unrecognized arguments: -f C:\\Users\\Indranil\\AppData\\Roaming\\jupyter\\runtime\\kernel-08a583e5-c1a9-4bb2-b16f-cc29274f1e23.json\n"
     ]
    },
    {
     "ename": "SystemExit",
     "evalue": "2",
     "output_type": "error",
     "traceback": [
      "An exception has occurred, use %tb to see the full traceback.\n",
      "\u001b[1;31mSystemExit\u001b[0m\u001b[1;31m:\u001b[0m 2\n"
     ]
    }
   ],
   "source": [
    "ap = argparse.ArgumentParser()\n",
    "ap.add_argument(\"-i\", \"--image\", type=str,\n",
    "    help=\"path to input image\")\n",
    "ap.add_argument(\"-east\", \"--east\", type=str,\n",
    "    help=\"path to input EAST text detector\")\n",
    "ap.add_argument(\"-c\", \"--min-confidence\", type=float, default=0.5,\n",
    "    help=\"minimum probability required to inspect a region\")\n",
    "ap.add_argument(\"-w\", \"--width\", type=int, default=320,\n",
    "    help=\"resized image width (should be multiple of 32)\")\n",
    "ap.add_argument(\"-e\", \"--height\", type=int, default=320,\n",
    "    help=\"resized image height (should be multiple of 32)\")\n",
    "args = vars(ap.parse_args())\n"
   ]
  },
  {
   "cell_type": "code",
   "execution_count": 3,
   "metadata": {},
   "outputs": [
    {
     "ename": "NameError",
     "evalue": "name 'args' is not defined",
     "output_type": "error",
     "traceback": [
      "\u001b[1;31m---------------------------------------------------------------------------\u001b[0m",
      "\u001b[1;31mNameError\u001b[0m                                 Traceback (most recent call last)",
      "\u001b[1;32m<ipython-input-3-181a502360e4>\u001b[0m in \u001b[0;36m<module>\u001b[1;34m\u001b[0m\n\u001b[0;32m      1\u001b[0m \u001b[1;31m# load the input image and grab the image dimensions\u001b[0m\u001b[1;33m\u001b[0m\u001b[1;33m\u001b[0m\u001b[1;33m\u001b[0m\u001b[0m\n\u001b[1;32m----> 2\u001b[1;33m \u001b[0mimage\u001b[0m \u001b[1;33m=\u001b[0m \u001b[0mcv2\u001b[0m\u001b[1;33m.\u001b[0m\u001b[0mimread\u001b[0m\u001b[1;33m(\u001b[0m\u001b[0margs\u001b[0m\u001b[1;33m[\u001b[0m\u001b[1;34m\"image\"\u001b[0m\u001b[1;33m]\u001b[0m\u001b[1;33m)\u001b[0m\u001b[1;33m\u001b[0m\u001b[1;33m\u001b[0m\u001b[0m\n\u001b[0m\u001b[0;32m      3\u001b[0m \u001b[0morig\u001b[0m \u001b[1;33m=\u001b[0m \u001b[0mimage\u001b[0m\u001b[1;33m.\u001b[0m\u001b[0mcopy\u001b[0m\u001b[1;33m(\u001b[0m\u001b[1;33m)\u001b[0m\u001b[1;33m\u001b[0m\u001b[1;33m\u001b[0m\u001b[0m\n\u001b[0;32m      4\u001b[0m \u001b[1;33m(\u001b[0m\u001b[0mH\u001b[0m\u001b[1;33m,\u001b[0m \u001b[0mW\u001b[0m\u001b[1;33m)\u001b[0m \u001b[1;33m=\u001b[0m \u001b[0mimage\u001b[0m\u001b[1;33m.\u001b[0m\u001b[0mshape\u001b[0m\u001b[1;33m[\u001b[0m\u001b[1;33m:\u001b[0m\u001b[1;36m2\u001b[0m\u001b[1;33m]\u001b[0m\u001b[1;33m\u001b[0m\u001b[1;33m\u001b[0m\u001b[0m\n",
      "\u001b[1;31mNameError\u001b[0m: name 'args' is not defined"
     ]
    }
   ],
   "source": [
    "# load the input image and grab the image dimensions\n",
    "image = cv2.imread(args[\"image\"])\n",
    "orig = image.copy()\n",
    "(H, W) = image.shape[:2]\n"
   ]
  },
  {
   "cell_type": "code",
   "execution_count": 5,
   "metadata": {},
   "outputs": [
    {
     "ename": "NameError",
     "evalue": "name 'args' is not defined",
     "output_type": "error",
     "traceback": [
      "\u001b[1;31m---------------------------------------------------------------------------\u001b[0m",
      "\u001b[1;31mNameError\u001b[0m                                 Traceback (most recent call last)",
      "\u001b[1;32m<ipython-input-5-48402652c7a9>\u001b[0m in \u001b[0;36m<module>\u001b[1;34m\u001b[0m\n\u001b[1;32m----> 1\u001b[1;33m \u001b[1;33m(\u001b[0m\u001b[0mnewW\u001b[0m\u001b[1;33m,\u001b[0m \u001b[0mnewH\u001b[0m\u001b[1;33m)\u001b[0m \u001b[1;33m=\u001b[0m \u001b[1;33m(\u001b[0m\u001b[0margs\u001b[0m\u001b[1;33m[\u001b[0m\u001b[1;34m\"width\"\u001b[0m\u001b[1;33m]\u001b[0m\u001b[1;33m,\u001b[0m \u001b[0margs\u001b[0m\u001b[1;33m[\u001b[0m\u001b[1;34m\"height\"\u001b[0m\u001b[1;33m]\u001b[0m\u001b[1;33m)\u001b[0m\u001b[1;33m\u001b[0m\u001b[1;33m\u001b[0m\u001b[0m\n\u001b[0m\u001b[0;32m      2\u001b[0m \u001b[0mrW\u001b[0m \u001b[1;33m=\u001b[0m \u001b[0mW\u001b[0m \u001b[1;33m/\u001b[0m \u001b[0mfloat\u001b[0m\u001b[1;33m(\u001b[0m\u001b[0mnewW\u001b[0m\u001b[1;33m)\u001b[0m\u001b[1;33m\u001b[0m\u001b[1;33m\u001b[0m\u001b[0m\n\u001b[0;32m      3\u001b[0m \u001b[0mrH\u001b[0m \u001b[1;33m=\u001b[0m \u001b[0mH\u001b[0m \u001b[1;33m/\u001b[0m \u001b[0mfloat\u001b[0m\u001b[1;33m(\u001b[0m\u001b[0mnewH\u001b[0m\u001b[1;33m)\u001b[0m\u001b[1;33m\u001b[0m\u001b[1;33m\u001b[0m\u001b[0m\n",
      "\u001b[1;31mNameError\u001b[0m: name 'args' is not defined"
     ]
    }
   ],
   "source": [
    "(newW, newH) = (args[\"width\"], args[\"height\"])\n",
    "rW = W / float(newW)\n",
    "rH = H / float(newH)\n"
   ]
  },
  {
   "cell_type": "code",
   "execution_count": null,
   "metadata": {},
   "outputs": [],
   "source": [
    "image = cv2.resize(image, (newW, newH))\n",
    "(H, W) = image.shape[:2]\n"
   ]
  },
  {
   "cell_type": "code",
   "execution_count": null,
   "metadata": {},
   "outputs": [],
   "source": [
    "layerNames = [\n",
    "    \"feature_fusion/Conv_7/Sigmoid\",\n",
    "    \"feature_fusion/concat_3\"]\n"
   ]
  },
  {
   "cell_type": "code",
   "execution_count": null,
   "metadata": {},
   "outputs": [],
   "source": [
    "print(\"[INFO] loading EAST text detector...\")\n",
    "net = cv2.dnn.readNet(args[\"east\"])\n"
   ]
  },
  {
   "cell_type": "code",
   "execution_count": 6,
   "metadata": {},
   "outputs": [
    {
     "ename": "NameError",
     "evalue": "name 'image' is not defined",
     "output_type": "error",
     "traceback": [
      "\u001b[1;31m---------------------------------------------------------------------------\u001b[0m",
      "\u001b[1;31mNameError\u001b[0m                                 Traceback (most recent call last)",
      "\u001b[1;32m<ipython-input-6-881ecdfff233>\u001b[0m in \u001b[0;36m<module>\u001b[1;34m\u001b[0m\n\u001b[1;32m----> 1\u001b[1;33m blob = cv2.dnn.blobFromImage(image, 1.0, (W, H),\n\u001b[0m\u001b[0;32m      2\u001b[0m     (123.68, 116.78, 103.94), swapRB=True, crop=False)\n\u001b[0;32m      3\u001b[0m \u001b[0mstart\u001b[0m \u001b[1;33m=\u001b[0m \u001b[0mtime\u001b[0m\u001b[1;33m.\u001b[0m\u001b[0mtime\u001b[0m\u001b[1;33m(\u001b[0m\u001b[1;33m)\u001b[0m\u001b[1;33m\u001b[0m\u001b[1;33m\u001b[0m\u001b[0m\n\u001b[0;32m      4\u001b[0m \u001b[0mnet\u001b[0m\u001b[1;33m.\u001b[0m\u001b[0msetInput\u001b[0m\u001b[1;33m(\u001b[0m\u001b[0mblob\u001b[0m\u001b[1;33m)\u001b[0m\u001b[1;33m\u001b[0m\u001b[1;33m\u001b[0m\u001b[0m\n\u001b[0;32m      5\u001b[0m \u001b[1;33m(\u001b[0m\u001b[0mscores\u001b[0m\u001b[1;33m,\u001b[0m \u001b[0mgeometry\u001b[0m\u001b[1;33m)\u001b[0m \u001b[1;33m=\u001b[0m \u001b[0mnet\u001b[0m\u001b[1;33m.\u001b[0m\u001b[0mforward\u001b[0m\u001b[1;33m(\u001b[0m\u001b[0mlayerNames\u001b[0m\u001b[1;33m)\u001b[0m\u001b[1;33m\u001b[0m\u001b[1;33m\u001b[0m\u001b[0m\n",
      "\u001b[1;31mNameError\u001b[0m: name 'image' is not defined"
     ]
    }
   ],
   "source": [
    "blob = cv2.dnn.blobFromImage(image, 1.0, (W, H),\n",
    "    (123.68, 116.78, 103.94), swapRB=True, crop=False)\n",
    "start = time.time()\n",
    "net.setInput(blob)\n",
    "(scores, geometry) = net.forward(layerNames)\n",
    "end = time.time()\n"
   ]
  },
  {
   "cell_type": "code",
   "execution_count": null,
   "metadata": {},
   "outputs": [],
   "source": [
    "print(\"[INFO] text detection took {:.6f} seconds\".format(end - start))\n"
   ]
  },
  {
   "cell_type": "code",
   "execution_count": null,
   "metadata": {},
   "outputs": [],
   "source": [
    "(numRows, numCols) = scores.shape[2:4]\n",
    "rects = []\n",
    "confidences = []\n"
   ]
  },
  {
   "cell_type": "code",
   "execution_count": null,
   "metadata": {},
   "outputs": [],
   "source": [
    "for y in range(0, numRows):\n",
    "    # extract the scores (probabilities), followed by the geometrical\n",
    "    # data used to derive potential bounding box coordinates that\n",
    "    # surround text\n",
    "    scoresData = scores[0, 0, y]\n",
    "    xData0 = geometry[0, 0, y]\n",
    "    xData1 = geometry[0, 1, y]\n",
    "    xData2 = geometry[0, 2, y]\n",
    "    xData3 = geometry[0, 3, y]\n",
    "    anglesData = geometry[0, 4, y]\n",
    "\n",
    "    # loop over the number of columns\n",
    "    for x in range(0, numCols):\n",
    "        # if our score does not have sufficient probability, ignore it\n",
    "        if scoresData[x] < args[\"min_confidence\"]:\n",
    "            continue\n",
    "\n",
    "            # compute the offset factor as our resulting feature maps will\n",
    "        # be 4x smaller than the input image\n",
    "        (offsetX, offsetY) = (x * 4.0, y * 4.0)\n",
    "\n",
    "        # extract the rotation angle for the prediction and then\n",
    "        # compute the sin and cosine\n",
    "        angle = anglesData[x]\n",
    "        cos = np.cos(angle)\n",
    "        sin = np.sin(angle)\n",
    "\n",
    "        # use the geometry volume to derive the width and height of\n",
    "        # the bounding box\n",
    "        h = xData0[x] + xData2[x]\n",
    "        w = xData1[x] + xData3[x]\n",
    "\n",
    "        # compute both the starting and ending (x, y)-coordinates for\n",
    "        # the text prediction bounding box\n",
    "        endX = int(offsetX + (cos * xData1[x]) + (sin * xData2[x]))\n",
    "        endY = int(offsetY - (sin * xData1[x]) + (cos * xData2[x]))\n",
    "        startX = int(endX - w)\n",
    "        startY = int(endY - h)\n",
    "\n",
    "        # add the bounding box coordinates and probability score to\n",
    "        # our respective lists\n",
    "        rects.append((startX, startY, endX, endY))\n",
    "        confidences.append(scoresData[x])\n"
   ]
  },
  {
   "cell_type": "code",
   "execution_count": null,
   "metadata": {},
   "outputs": [],
   "source": [
    "boxes = non_max_suppression(np.array(rects), probs=confidences)\n",
    "\n",
    "# loop over the bounding boxes\n",
    "for (startX, startY, endX, endY) in boxes:\n",
    "    # scale the bounding box coordinates based on the respective\n",
    "    # ratios\n",
    "    startX = int(startX * rW)\n",
    "    startY = int(startY * rH)\n",
    "    endX = int(endX * rW)\n",
    "    endY = int(endY * rH)\n",
    "\n",
    "    # draw the bounding box on the image\n",
    "    cv2.rectangle(orig, (startX, startY), (endX, endY), (0, 255, 0), 2)\n",
    "\n",
    "# show the output image\n",
    "cv2.imshow(\"Text Detection\", orig)\n",
    "cv2.waitKey(0)"
   ]
  }
 ],
 "metadata": {
  "kernelspec": {
   "display_name": "Python 3",
   "language": "python",
   "name": "python3"
  },
  "language_info": {
   "codemirror_mode": {
    "name": "ipython",
    "version": 3
   },
   "file_extension": ".py",
   "mimetype": "text/x-python",
   "name": "python",
   "nbconvert_exporter": "python",
   "pygments_lexer": "ipython3",
   "version": "3.6.10"
  }
 },
 "nbformat": 4,
 "nbformat_minor": 4
}
